{
 "cells": [
  {
   "cell_type": "code",
   "execution_count": 352,
   "metadata": {
    "id": "I3m2dbyDkKMb"
   },
   "outputs": [],
   "source": [
    "#importing libraries\n",
    "import numpy as np\n",
    "import pandas as pd\n",
    "import matplotlib.pyplot as plt\n",
    "import seaborn as sns"
   ]
  },
  {
   "cell_type": "code",
   "execution_count": 353,
   "metadata": {
    "id": "O8uE4dotkbaT"
   },
   "outputs": [],
   "source": [
    "#importing the training and test dataframes\n",
    "train = pd.read_csv('/Users/udayshankar/Desktop/Academics/Programing/Train.csv')\n",
    "test = pd.read_csv('/Users/udayshankar/Desktop/Academics/Programing/Test.csv')"
   ]
  },
  {
   "cell_type": "code",
   "execution_count": 354,
   "metadata": {
    "colab": {
     "base_uri": "https://localhost:8080/",
     "height": 383
    },
    "id": "qCk_2G1tloH7",
    "outputId": "eb8731ca-4b1a-48e5-9913-0e43cb51eb53",
    "scrolled": true
   },
   "outputs": [
    {
     "data": {
      "text/html": [
       "<div>\n",
       "<style scoped>\n",
       "    .dataframe tbody tr th:only-of-type {\n",
       "        vertical-align: middle;\n",
       "    }\n",
       "\n",
       "    .dataframe tbody tr th {\n",
       "        vertical-align: top;\n",
       "    }\n",
       "\n",
       "    .dataframe thead th {\n",
       "        text-align: right;\n",
       "    }\n",
       "</style>\n",
       "<table border=\"1\" class=\"dataframe\">\n",
       "  <thead>\n",
       "    <tr style=\"text-align: right;\">\n",
       "      <th></th>\n",
       "      <th>id</th>\n",
       "      <th>amount_tsh</th>\n",
       "      <th>date_recorded</th>\n",
       "      <th>funder</th>\n",
       "      <th>gps_height</th>\n",
       "      <th>installer</th>\n",
       "      <th>longitude</th>\n",
       "      <th>latitude</th>\n",
       "      <th>wpt_name</th>\n",
       "      <th>num_private</th>\n",
       "      <th>...</th>\n",
       "      <th>water_quality</th>\n",
       "      <th>quality_group</th>\n",
       "      <th>quantity</th>\n",
       "      <th>quantity_group</th>\n",
       "      <th>source</th>\n",
       "      <th>source_type</th>\n",
       "      <th>source_class</th>\n",
       "      <th>waterpoint_type</th>\n",
       "      <th>waterpoint_type_group</th>\n",
       "      <th>status_group</th>\n",
       "    </tr>\n",
       "  </thead>\n",
       "  <tbody>\n",
       "    <tr>\n",
       "      <th>0</th>\n",
       "      <td>7411</td>\n",
       "      <td>7.0</td>\n",
       "      <td>2013-03-20</td>\n",
       "      <td>Germany Republi</td>\n",
       "      <td>1203</td>\n",
       "      <td>CES</td>\n",
       "      <td>37.228664</td>\n",
       "      <td>-3.256505</td>\n",
       "      <td>Kwa Abdalla</td>\n",
       "      <td>0</td>\n",
       "      <td>...</td>\n",
       "      <td>soft</td>\n",
       "      <td>good</td>\n",
       "      <td>enough</td>\n",
       "      <td>enough</td>\n",
       "      <td>spring</td>\n",
       "      <td>spring</td>\n",
       "      <td>groundwater</td>\n",
       "      <td>communal standpipe</td>\n",
       "      <td>communal standpipe</td>\n",
       "      <td>functional</td>\n",
       "    </tr>\n",
       "    <tr>\n",
       "      <th>1</th>\n",
       "      <td>18014</td>\n",
       "      <td>0.0</td>\n",
       "      <td>2011-02-21</td>\n",
       "      <td>Cdtf</td>\n",
       "      <td>1409</td>\n",
       "      <td>CDTF</td>\n",
       "      <td>34.615481</td>\n",
       "      <td>-9.972601</td>\n",
       "      <td>none</td>\n",
       "      <td>0</td>\n",
       "      <td>...</td>\n",
       "      <td>soft</td>\n",
       "      <td>good</td>\n",
       "      <td>enough</td>\n",
       "      <td>enough</td>\n",
       "      <td>spring</td>\n",
       "      <td>spring</td>\n",
       "      <td>groundwater</td>\n",
       "      <td>communal standpipe</td>\n",
       "      <td>communal standpipe</td>\n",
       "      <td>functional</td>\n",
       "    </tr>\n",
       "    <tr>\n",
       "      <th>2</th>\n",
       "      <td>26103</td>\n",
       "      <td>0.0</td>\n",
       "      <td>2013-01-04</td>\n",
       "      <td>Government Of Tanzania</td>\n",
       "      <td>1572</td>\n",
       "      <td>DWE</td>\n",
       "      <td>36.658778</td>\n",
       "      <td>-3.321529</td>\n",
       "      <td>Kwa Loishiye</td>\n",
       "      <td>0</td>\n",
       "      <td>...</td>\n",
       "      <td>soft</td>\n",
       "      <td>good</td>\n",
       "      <td>insufficient</td>\n",
       "      <td>insufficient</td>\n",
       "      <td>spring</td>\n",
       "      <td>spring</td>\n",
       "      <td>groundwater</td>\n",
       "      <td>communal standpipe</td>\n",
       "      <td>communal standpipe</td>\n",
       "      <td>non functional</td>\n",
       "    </tr>\n",
       "    <tr>\n",
       "      <th>3</th>\n",
       "      <td>31140</td>\n",
       "      <td>0.0</td>\n",
       "      <td>2011-04-03</td>\n",
       "      <td>District Council</td>\n",
       "      <td>0</td>\n",
       "      <td>District Council</td>\n",
       "      <td>33.628025</td>\n",
       "      <td>-8.860795</td>\n",
       "      <td>Mwanzechele</td>\n",
       "      <td>0</td>\n",
       "      <td>...</td>\n",
       "      <td>soft</td>\n",
       "      <td>good</td>\n",
       "      <td>insufficient</td>\n",
       "      <td>insufficient</td>\n",
       "      <td>river</td>\n",
       "      <td>river/lake</td>\n",
       "      <td>surface</td>\n",
       "      <td>communal standpipe</td>\n",
       "      <td>communal standpipe</td>\n",
       "      <td>functional</td>\n",
       "    </tr>\n",
       "    <tr>\n",
       "      <th>4</th>\n",
       "      <td>12286</td>\n",
       "      <td>300.0</td>\n",
       "      <td>2013-03-08</td>\n",
       "      <td>District Council</td>\n",
       "      <td>1283</td>\n",
       "      <td>District Council</td>\n",
       "      <td>37.655509</td>\n",
       "      <td>-3.669777</td>\n",
       "      <td>Kwa Kidaya</td>\n",
       "      <td>0</td>\n",
       "      <td>...</td>\n",
       "      <td>soft</td>\n",
       "      <td>good</td>\n",
       "      <td>insufficient</td>\n",
       "      <td>insufficient</td>\n",
       "      <td>spring</td>\n",
       "      <td>spring</td>\n",
       "      <td>groundwater</td>\n",
       "      <td>communal standpipe</td>\n",
       "      <td>communal standpipe</td>\n",
       "      <td>functional</td>\n",
       "    </tr>\n",
       "  </tbody>\n",
       "</table>\n",
       "<p>5 rows × 41 columns</p>\n",
       "</div>"
      ],
      "text/plain": [
       "      id  amount_tsh date_recorded                  funder  gps_height  \\\n",
       "0   7411         7.0    2013-03-20         Germany Republi        1203   \n",
       "1  18014         0.0    2011-02-21                    Cdtf        1409   \n",
       "2  26103         0.0    2013-01-04  Government Of Tanzania        1572   \n",
       "3  31140         0.0    2011-04-03        District Council           0   \n",
       "4  12286       300.0    2013-03-08        District Council        1283   \n",
       "\n",
       "          installer  longitude  latitude      wpt_name  num_private  ...  \\\n",
       "0               CES  37.228664 -3.256505   Kwa Abdalla            0  ...   \n",
       "1              CDTF  34.615481 -9.972601          none            0  ...   \n",
       "2               DWE  36.658778 -3.321529  Kwa Loishiye            0  ...   \n",
       "3  District Council  33.628025 -8.860795   Mwanzechele            0  ...   \n",
       "4  District Council  37.655509 -3.669777    Kwa Kidaya            0  ...   \n",
       "\n",
       "  water_quality quality_group      quantity  quantity_group  source  \\\n",
       "0          soft          good        enough          enough  spring   \n",
       "1          soft          good        enough          enough  spring   \n",
       "2          soft          good  insufficient    insufficient  spring   \n",
       "3          soft          good  insufficient    insufficient   river   \n",
       "4          soft          good  insufficient    insufficient  spring   \n",
       "\n",
       "  source_type source_class     waterpoint_type waterpoint_type_group  \\\n",
       "0      spring  groundwater  communal standpipe    communal standpipe   \n",
       "1      spring  groundwater  communal standpipe    communal standpipe   \n",
       "2      spring  groundwater  communal standpipe    communal standpipe   \n",
       "3  river/lake      surface  communal standpipe    communal standpipe   \n",
       "4      spring  groundwater  communal standpipe    communal standpipe   \n",
       "\n",
       "     status_group  \n",
       "0      functional  \n",
       "1      functional  \n",
       "2  non functional  \n",
       "3      functional  \n",
       "4      functional  \n",
       "\n",
       "[5 rows x 41 columns]"
      ]
     },
     "execution_count": 354,
     "metadata": {},
     "output_type": "execute_result"
    }
   ],
   "source": [
    "train.head()"
   ]
  },
  {
   "cell_type": "code",
   "execution_count": 355,
   "metadata": {
    "colab": {
     "base_uri": "https://localhost:8080/"
    },
    "id": "pzHk2yR3miki",
    "outputId": "7261a68c-4332-45c6-fd93-0a6b6ba605f6"
   },
   "outputs": [
    {
     "name": "stdout",
     "output_type": "stream",
     "text": [
      "(44550, 41)\n",
      "(14850, 41)\n"
     ]
    }
   ],
   "source": [
    "#getting the shape of the dataframes.\n",
    "print(train.shape)\n",
    "print(test.shape)\n"
   ]
  },
  {
   "cell_type": "code",
   "execution_count": 356,
   "metadata": {
    "colab": {
     "base_uri": "https://localhost:8080/"
    },
    "id": "Mo8EyZlrw2U3",
    "outputId": "0f0507d0-3d84-43d8-b9b4-819544ceecf6"
   },
   "outputs": [
    {
     "name": "stdout",
     "output_type": "stream",
     "text": [
      "|    | column                |   unique values | types   |\n",
      "|---:|:----------------------|----------------:|:--------|\n",
      "|  0 | id                    |           44550 | int64   |\n",
      "|  1 | amount_tsh            |              85 | float64 |\n",
      "|  2 | date_recorded         |             346 | object  |\n",
      "|  3 | funder                |            1652 | object  |\n",
      "|  4 | gps_height            |            2396 | int64   |\n",
      "|  5 | installer             |            1855 | object  |\n",
      "|  6 | longitude             |           43155 | float64 |\n",
      "|  7 | latitude              |           43155 | float64 |\n",
      "|  8 | wpt_name              |           28991 | object  |\n",
      "|  9 | num_private           |              59 | int64   |\n",
      "| 10 | basin                 |               9 | object  |\n",
      "| 11 | subvillage            |           16618 | object  |\n",
      "| 12 | region                |              21 | object  |\n",
      "| 13 | region_code           |              27 | int64   |\n",
      "| 14 | district_code         |              20 | int64   |\n",
      "| 15 | lga                   |             125 | object  |\n",
      "| 16 | ward                  |            2080 | object  |\n",
      "| 17 | population            |             956 | int64   |\n",
      "| 18 | public_meeting        |               3 | object  |\n",
      "| 19 | recorded_by           |               1 | object  |\n",
      "| 20 | scheme_management     |              13 | object  |\n",
      "| 21 | scheme_name           |            2507 | object  |\n",
      "| 22 | permit                |               3 | object  |\n",
      "| 23 | construction_year     |              55 | int64   |\n",
      "| 24 | extraction_type       |              18 | object  |\n",
      "| 25 | extraction_type_group |              13 | object  |\n",
      "| 26 | extraction_type_class |               7 | object  |\n",
      "| 27 | management            |              12 | object  |\n",
      "| 28 | management_group      |               5 | object  |\n",
      "| 29 | payment               |               7 | object  |\n",
      "| 30 | payment_type          |               7 | object  |\n",
      "| 31 | water_quality         |               8 | object  |\n",
      "| 32 | quality_group         |               6 | object  |\n",
      "| 33 | quantity              |               5 | object  |\n",
      "| 34 | quantity_group        |               5 | object  |\n",
      "| 35 | source                |              10 | object  |\n",
      "| 36 | source_type           |               7 | object  |\n",
      "| 37 | source_class          |               3 | object  |\n",
      "| 38 | waterpoint_type       |               7 | object  |\n",
      "| 39 | waterpoint_type_group |               6 | object  |\n",
      "| 40 | status_group          |               3 | object  |\n"
     ]
    }
   ],
   "source": [
    "#Evaluating the type and values columnwise:\n",
    "columns = pd.DataFrame({\n",
    "    \"column\":train.columns,\n",
    "    \"unique values\": [len(train[i].unique()) for i in train.columns],\n",
    "    \"types\": list(train.dtypes)\n",
    "})\n",
    "print(columns.to_markdown())"
   ]
  },
  {
   "cell_type": "code",
   "execution_count": 357,
   "metadata": {
    "colab": {
     "base_uri": "https://localhost:8080/"
    },
    "id": "lmAXJgfexGCZ",
    "outputId": "492a9229-13c5-4a00-f67e-b73c7c5130e0"
   },
   "outputs": [
    {
     "name": "stdout",
     "output_type": "stream",
     "text": [
      "|    | column                |   unique values | types   |\n",
      "|---:|:----------------------|----------------:|:--------|\n",
      "|  0 | Unnamed: 0            |           14850 | int64   |\n",
      "|  1 | id                    |           14850 | int64   |\n",
      "|  2 | amount_tsh            |              74 | float64 |\n",
      "|  3 | date_recorded         |             326 | object  |\n",
      "|  4 | funder                |             948 | object  |\n",
      "|  5 | gps_height            |            2128 | int64   |\n",
      "|  6 | installer             |            1085 | object  |\n",
      "|  7 | longitude             |           14390 | float64 |\n",
      "|  8 | latitude              |           14390 | float64 |\n",
      "|  9 | wpt_name              |           10708 | object  |\n",
      "| 10 | num_private           |              38 | int64   |\n",
      "| 11 | basin                 |               9 | object  |\n",
      "| 12 | subvillage            |            8449 | object  |\n",
      "| 13 | region                |              21 | object  |\n",
      "| 14 | region_code           |              26 | int64   |\n",
      "| 15 | district_code         |              19 | int64   |\n",
      "| 16 | lga                   |             124 | object  |\n",
      "| 17 | ward                  |            1942 | object  |\n",
      "| 18 | population            |             631 | int64   |\n",
      "| 19 | public_meeting        |               3 | object  |\n",
      "| 20 | recorded_by           |               1 | object  |\n",
      "| 21 | scheme_management     |              12 | object  |\n",
      "| 22 | scheme_name           |            1729 | object  |\n",
      "| 23 | permit                |               3 | object  |\n",
      "| 24 | construction_year     |              55 | int64   |\n",
      "| 25 | extraction_type       |              17 | object  |\n",
      "| 26 | extraction_type_group |              13 | object  |\n",
      "| 27 | extraction_type_class |               7 | object  |\n",
      "| 28 | management            |              12 | object  |\n",
      "| 29 | management_group      |               5 | object  |\n",
      "| 30 | payment               |               7 | object  |\n",
      "| 31 | payment_type          |               7 | object  |\n",
      "| 32 | water_quality         |               8 | object  |\n",
      "| 33 | quality_group         |               6 | object  |\n",
      "| 34 | quantity              |               5 | object  |\n",
      "| 35 | quantity_group        |               5 | object  |\n",
      "| 36 | source                |              10 | object  |\n",
      "| 37 | source_type           |               7 | object  |\n",
      "| 38 | source_class          |               3 | object  |\n",
      "| 39 | waterpoint_type       |               7 | object  |\n",
      "| 40 | waterpoint_type_group |               6 | object  |\n"
     ]
    }
   ],
   "source": [
    "columns = pd.DataFrame({\n",
    "    \"column\": test.columns,\n",
    "    \"unique values\": [len(test[i].unique()) for i in test.columns],\n",
    "    \"types\": list(test.dtypes)\n",
    "})\n",
    "print(columns.to_markdown())"
   ]
  },
  {
   "cell_type": "markdown",
   "metadata": {
    "id": "nt-x2X5-ekCR"
   },
   "source": [
    "## Data visualization\n"
   ]
  },
  {
   "cell_type": "code",
   "execution_count": 358,
   "metadata": {
    "colab": {
     "base_uri": "https://localhost:8080/",
     "height": 401
    },
    "id": "xvL_o9JXeyw4",
    "outputId": "2ba04512-0fe9-4f98-edce-f8bd7b82672f"
   },
   "outputs": [
    {
     "data": {
      "text/plain": [
       "<seaborn.axisgrid.FacetGrid at 0x1455b13a0>"
      ]
     },
     "execution_count": 358,
     "metadata": {},
     "output_type": "execute_result"
    },
    {
     "data": {
      "image/png": "[encoded data removed]",
      "text/plain": [
       "<Figure size 360x360 with 1 Axes>"
      ]
     },
     "metadata": {
      "needs_background": "light"
     },
     "output_type": "display_data"
    }
   ],
   "source": [
    "#training set dependent feature visualization.\n",
    "sns.catplot(x=\"status_group\", kind=\"count\", palette=\"ch:.50\", data = train)"
   ]
  },
  {
   "cell_type": "code",
   "execution_count": 359,
   "metadata": {
    "colab": {
     "base_uri": "https://localhost:8080/",
     "height": 401
    },
    "id": "jcC_d1WrgCBq",
    "outputId": "33babf0f-9978-4e12-da83-2bb0b6b5d094"
   },
   "outputs": [
    {
     "data": {
      "text/plain": [
       "<seaborn.axisgrid.FacetGrid at 0x16c1a3730>"
      ]
     },
     "execution_count": 359,
     "metadata": {},
     "output_type": "execute_result"
    },
    {
     "data": {
      "image/png": "[encoded data removed]",
      "text/plain": [
       "<Figure size 1231.88x360 with 1 Axes>"
      ]
     },
     "metadata": {
      "needs_background": "light"
     },
     "output_type": "display_data"
    }
   ],
   "source": [
    "#water quality visualization on the basis of status group:\n",
    "sns.catplot(x=\"water_quality\", hue=\"status_group\", kind=\"count\",palette=\"Paired\", edgecolor=\".6\",data = train,aspect=3)"
   ]
  },
  {
   "cell_type": "markdown",
   "metadata": {
    "id": "pRpVIyS7iPwH"
   },
   "source": [
    "From the plot we can say that, if the water quality is soft, then there is a high probability that it is in the working or functional condition."
   ]
  },
  {
   "cell_type": "code",
   "execution_count": 360,
   "metadata": {
    "colab": {
     "base_uri": "https://localhost:8080/",
     "height": 401
    },
    "id": "xxoshriDisjl",
    "outputId": "5fa2865a-18a2-4ead-b313-1247a4fd4f54"
   },
   "outputs": [
    {
     "data": {
      "text/plain": [
       "<seaborn.axisgrid.FacetGrid at 0x16c35f670>"
      ]
     },
     "execution_count": 360,
     "metadata": {},
     "output_type": "execute_result"
    },
    {
     "data": {
      "image/png": "[encoded data removed]",
      "text/plain": [
       "<Figure size 1411.88x360 with 1 Axes>"
      ]
     },
     "metadata": {
      "needs_background": "light"
     },
     "output_type": "display_data"
    }
   ],
   "source": [
    "# reagion visualisation on the basis of status group.\n",
    "sns.catplot(x=\"region\", hue=\"status_group\", kind=\"count\",palette=\"Paired\", edgecolor=\".6\",data=train,aspect=3.5)"
   ]
  },
  {
   "cell_type": "markdown",
   "metadata": {
    "id": "KTqS9uOGjWHL"
   },
   "source": [
    "From the plot we can see that, there are some regions where there is a high probability that pump is in the functional condition."
   ]
  },
  {
   "cell_type": "code",
   "execution_count": 361,
   "metadata": {
    "colab": {
     "base_uri": "https://localhost:8080/",
     "height": 420
    },
    "id": "68UvswOSjjTe",
    "outputId": "37024d8e-e0ba-4938-b5a6-6a5dfc2beaed"
   },
   "outputs": [
    {
     "data": {
      "text/plain": [
       "<seaborn.axisgrid.FacetGrid at 0x31b600b20>"
      ]
     },
     "execution_count": 361,
     "metadata": {},
     "output_type": "execute_result"
    },
    {
     "data": {
      "image/png": "[encoded data removed]",
      "text/plain": [
       "<Figure size 1231.88x360 with 1 Axes>"
      ]
     },
     "metadata": {
      "needs_background": "light"
     },
     "output_type": "display_data"
    }
   ],
   "source": [
    "#Source Class visualization on the basis of status group:\n",
    "sns.catplot(x=\"source_class\", hue=\"status_group\", kind=\"count\",palette=\"Paired\", edgecolor=\".6\",data=train,aspect=3)"
   ]
  },
  {
   "cell_type": "markdown",
   "metadata": {
    "id": "FIXfgKzllJdP"
   },
   "source": [
    "From the plot we can say that, if the source class is ground water, then there is a high probability that pump is in the working or functional condition"
   ]
  },
  {
   "cell_type": "code",
   "execution_count": 362,
   "metadata": {
    "colab": {
     "base_uri": "https://localhost:8080/",
     "height": 406
    },
    "id": "yrDVvu0YlIJX",
    "outputId": "0ace980d-d77f-4e39-f375-7c6af56d0efd"
   },
   "outputs": [
    {
     "data": {
      "text/plain": [
       "<seaborn.axisgrid.FacetGrid at 0x145d9ba30>"
      ]
     },
     "execution_count": 362,
     "metadata": {},
     "output_type": "execute_result"
    },
    {
     "data": {
      "image/png": "[encoded data removed]",
      "text/plain": [
       "<Figure size 1231.88x360 with 1 Axes>"
      ]
     },
     "metadata": {
      "needs_background": "light"
     },
     "output_type": "display_data"
    }
   ],
   "source": [
    "#population visualisation on the basis of status group\n",
    "sns.displot(train, x=\"population\", hue=\"status_group\", kind=\"kde\",aspect = 3,fill=True)"
   ]
  },
  {
   "cell_type": "code",
   "execution_count": 363,
   "metadata": {
    "colab": {
     "base_uri": "https://localhost:8080/",
     "height": 280
    },
    "id": "ZWxoyoaanjKG",
    "outputId": "4ee89f70-0503-4c8b-b65e-d8fac1c50f24"
   },
   "outputs": [
    {
     "data": {
      "text/plain": [
       "<seaborn.axisgrid.FacetGrid at 0x31b313040>"
      ]
     },
     "execution_count": 363,
     "metadata": {},
     "output_type": "execute_result"
    },
    {
     "data": {
      "image/png": "[encoded data removed]",
      "text/plain": [
       "<Figure size 1591.88x360 with 1 Axes>"
      ]
     },
     "metadata": {
      "needs_background": "light"
     },
     "output_type": "display_data"
    }
   ],
   "source": [
    "#latitude visualisation on the basis of status group\n",
    "sns.displot(train, x=\"latitude\", hue=\"status_group\", kind=\"kde\",aspect = 4,fill=True)"
   ]
  },
  {
   "cell_type": "code",
   "execution_count": 364,
   "metadata": {
    "colab": {
     "base_uri": "https://localhost:8080/",
     "height": 280
    },
    "id": "Tqk4_S5Bn3sO",
    "outputId": "d34a6c2b-2d96-4216-a61c-3cb07a907aaa"
   },
   "outputs": [
    {
     "data": {
      "text/plain": [
       "<seaborn.axisgrid.FacetGrid at 0x1451c8c70>"
      ]
     },
     "execution_count": 364,
     "metadata": {},
     "output_type": "execute_result"
    },
    {
     "data": {
      "image/png": "[encoded data removed]",
      "text/plain": [
       "<Figure size 1591.88x360 with 1 Axes>"
      ]
     },
     "metadata": {
      "needs_background": "light"
     },
     "output_type": "display_data"
    }
   ],
   "source": [
    "#longitude visualisation on the basis of status group\n",
    "sns.displot(train, x=\"longitude\", hue=\"status_group\", kind=\"kde\",aspect = 4,fill=True)"
   ]
  },
  {
   "cell_type": "code",
   "execution_count": 365,
   "metadata": {
    "colab": {
     "base_uri": "https://localhost:8080/",
     "height": 280
    },
    "id": "zz99J8_an34N",
    "outputId": "6d8a4c54-09ec-42ae-a501-fcf2043e35bf"
   },
   "outputs": [
    {
     "data": {
      "text/plain": [
       "<seaborn.axisgrid.FacetGrid at 0x31b643f10>"
      ]
     },
     "execution_count": 365,
     "metadata": {},
     "output_type": "execute_result"
    },
    {
     "data": {
      "image/png": "[encoded data removed]",
      "text/plain": [
       "<Figure size 1591.88x360 with 1 Axes>"
      ]
     },
     "metadata": {
      "needs_background": "light"
     },
     "output_type": "display_data"
    }
   ],
   "source": [
    "#gps_hight visualisation on the basis of status group\n",
    "sns.displot(train, x=\"gps_height\", hue=\"status_group\", kind=\"kde\",aspect=4,fill=True)"
   ]
  },
  {
   "cell_type": "code",
   "execution_count": 366,
   "metadata": {
    "colab": {
     "base_uri": "https://localhost:8080/",
     "height": 406
    },
    "id": "PzmPIxTCoTcH",
    "outputId": "bfd2c0c5-55f0-4932-a2e5-090877cf30d1",
    "scrolled": true
   },
   "outputs": [
    {
     "data": {
      "text/plain": [
       "<seaborn.axisgrid.FacetGrid at 0x31b38ed60>"
      ]
     },
     "execution_count": 366,
     "metadata": {},
     "output_type": "execute_result"
    },
    {
     "data": {
      "image/png": "[encoded data removed]",
      "text/plain": [
       "<Figure size 1591.88x360 with 1 Axes>"
      ]
     },
     "metadata": {
      "needs_background": "light"
     },
     "output_type": "display_data"
    }
   ],
   "source": [
    "#construction_year visualizating construction_year on the basis of status group\n",
    "sns.displot(train, x=\"construction_year\", hue=\"status_group\", kind=\"kde\",aspect = 4,fill=True)"
   ]
  },
  {
   "cell_type": "markdown",
   "metadata": {
    "id": "6olEmr-CqX04"
   },
   "source": [
    "# Feature engineering-1"
   ]
  },
  {
   "cell_type": "code",
   "execution_count": 367,
   "metadata": {
    "id": "gV1XEalApmwS"
   },
   "outputs": [],
   "source": [
    "#Adding a new feature \"AGE of the pump\"\n",
    "train['construction_year']=train['construction_year'].replace({0:1993})\n",
    "train['age']=pd.DatetimeIndex(train['date_recorded']).year.astype(int)-train['construction_year']"
   ]
  },
  {
   "cell_type": "markdown",
   "metadata": {},
   "source": [
    "#### finding similar feature column."
   ]
  },
  {
   "cell_type": "code",
   "execution_count": 368,
   "metadata": {
    "colab": {
     "base_uri": "https://localhost:8080/"
    },
    "id": "eJ4SNQK8rEgX",
    "outputId": "fa4dccca-a55a-4eb2-e02f-7a11e6001958"
   },
   "outputs": [
    {
     "data": {
      "text/plain": [
       "source                source_type           source_class\n",
       "dam                   dam                   surface           489\n",
       "hand dtw              borehole              groundwater       652\n",
       "lake                  river/lake            surface           544\n",
       "machine dbh           borehole              groundwater      8282\n",
       "other                 other                 unknown           156\n",
       "rainwater harvesting  rainwater harvesting  surface          1739\n",
       "river                 river/lake            surface          7135\n",
       "shallow well          shallow well          groundwater     12618\n",
       "spring                spring                groundwater     12889\n",
       "unknown               other                 unknown            46\n",
       "dtype: int64"
      ]
     },
     "execution_count": 368,
     "metadata": {},
     "output_type": "execute_result"
    }
   ],
   "source": [
    "train.groupby(['source','source_type','source_class']).size()"
   ]
  },
  {
   "cell_type": "code",
   "execution_count": 369,
   "metadata": {
    "colab": {
     "base_uri": "https://localhost:8080/"
    },
    "id": "2HmZ9LEmwd_R",
    "outputId": "310ad264-d3e9-4e5f-9d44-924e8dbfc15c"
   },
   "outputs": [
    {
     "data": {
      "text/plain": [
       "extraction_type            extraction_type_group  extraction_type_class\n",
       "afridev                    afridev                handpump                  1339\n",
       "cemo                       other motorpump        motorpump                   70\n",
       "climax                     other motorpump        motorpump                   26\n",
       "gravity                    gravity                gravity                  20127\n",
       "india mark ii              india mark ii          handpump                  1768\n",
       "india mark iii             india mark iii         handpump                    77\n",
       "ksb                        submersible            submersible               1043\n",
       "mono                       mono                   motorpump                 2164\n",
       "nira/tanira                nira/tanira            handpump                  6130\n",
       "other                      other                  other                     4768\n",
       "other - mkulima/shinyanga  other handpump         handpump                     2\n",
       "other - play pump          other handpump         handpump                    65\n",
       "other - rope pump          rope pump              rope pump                  335\n",
       "other - swn 81             other handpump         handpump                   177\n",
       "submersible                submersible            submersible               3560\n",
       "swn 80                     swn 80                 handpump                  2771\n",
       "walimi                     other handpump         handpump                    39\n",
       "windmill                   wind-powered           wind-powered                89\n",
       "dtype: int64"
      ]
     },
     "execution_count": 369,
     "metadata": {},
     "output_type": "execute_result"
    }
   ],
   "source": [
    "train.groupby(['extraction_type','extraction_type_group','extraction_type_class']).size()"
   ]
  },
  {
   "cell_type": "code",
   "execution_count": 370,
   "metadata": {
    "colab": {
     "base_uri": "https://localhost:8080/"
    },
    "id": "1D7bK3KTyH8I",
    "outputId": "ce81b5fa-bcf4-4aa0-aa18-22ed012abbc9"
   },
   "outputs": [
    {
     "data": {
      "text/plain": [
       "payment                payment_type\n",
       "never pay              never pay       19002\n",
       "other                  other             796\n",
       "pay annually           annually         2717\n",
       "pay monthly            monthly          6182\n",
       "pay per bucket         per bucket       6808\n",
       "pay when scheme fails  on failure       2941\n",
       "unknown                unknown          6104\n",
       "dtype: int64"
      ]
     },
     "execution_count": 370,
     "metadata": {},
     "output_type": "execute_result"
    }
   ],
   "source": [
    "train.groupby(['payment','payment_type']).size()"
   ]
  },
  {
   "cell_type": "code",
   "execution_count": 371,
   "metadata": {
    "colab": {
     "base_uri": "https://localhost:8080/"
    },
    "id": "du28MwE38fb7",
    "outputId": "f5bcf720-0b0a-4a41-9078-6623caeda9d9"
   },
   "outputs": [
    {
     "data": {
      "text/plain": [
       "quantity      quantity_group\n",
       "dry           dry                4725\n",
       "enough        enough            24821\n",
       "insufficient  insufficient      11367\n",
       "seasonal      seasonal           3049\n",
       "unknown       unknown             588\n",
       "dtype: int64"
      ]
     },
     "execution_count": 371,
     "metadata": {},
     "output_type": "execute_result"
    }
   ],
   "source": [
    "train.groupby(['quantity','quantity_group']).size()"
   ]
  },
  {
   "cell_type": "code",
   "execution_count": 372,
   "metadata": {
    "colab": {
     "base_uri": "https://localhost:8080/"
    },
    "id": "AtvqMXVt81vU",
    "outputId": "2033990d-5f3d-4882-f8f4-a7adab52f4ae"
   },
   "outputs": [
    {
     "data": {
      "text/plain": [
       "waterpoint_type              waterpoint_type_group\n",
       "cattle trough                cattle trough               90\n",
       "communal standpipe           communal standpipe       21452\n",
       "communal standpipe multiple  communal standpipe        4558\n",
       "dam                          dam                          5\n",
       "hand pump                    hand pump                13116\n",
       "improved spring              improved spring            590\n",
       "other                        other                     4739\n",
       "dtype: int64"
      ]
     },
     "execution_count": 372,
     "metadata": {},
     "output_type": "execute_result"
    }
   ],
   "source": [
    "train.groupby(['waterpoint_type','waterpoint_type_group']).size()"
   ]
  },
  {
   "cell_type": "markdown",
   "metadata": {
    "id": "4PmxAkrP-Esl"
   },
   "source": [
    "Since,there is a similarity between features, so we can keep one feature and drop rest of the features as dropping similar features would not affect our model.       "
   ]
  },
  {
   "cell_type": "markdown",
   "metadata": {},
   "source": [
    "### Droping similar feature column."
   ]
  },
  {
   "cell_type": "code",
   "execution_count": 373,
   "metadata": {
    "id": "ZLuVpNhasJRg"
   },
   "outputs": [],
   "source": [
    "train = train.drop(['id','date_recorded'],1)\n"
   ]
  },
  {
   "cell_type": "code",
   "execution_count": 374,
   "metadata": {
    "id": "iQHhZuPDCklV"
   },
   "outputs": [],
   "source": [
    "train = train.drop(['source_type','source','extraction_type_group','extraction_type_class','payment_type','quantity_group','waterpoint_type_group'],1)\n"
   ]
  },
  {
   "cell_type": "code",
   "execution_count": 375,
   "metadata": {
    "id": "kEorR7A7EgXF"
   },
   "outputs": [],
   "source": [
    "train = train.drop(['public_meeting','permit','ward','subvillage','recorded_by','district_code','num_private','wpt_name','scheme_name','construction_year','management_group'],1)"
   ]
  },
  {
   "cell_type": "code",
   "execution_count": 376,
   "metadata": {
    "colab": {
     "base_uri": "https://localhost:8080/"
    },
    "id": "jac-DFJ2QCQR",
    "outputId": "f7ea3894-1203-4141-e7e1-c37e2f312fd3"
   },
   "outputs": [
    {
     "name": "stdout",
     "output_type": "stream",
     "text": [
      "(44550, 22)\n"
     ]
    }
   ],
   "source": [
    "print(train.shape)\n"
   ]
  },
  {
   "cell_type": "code",
   "execution_count": 377,
   "metadata": {
    "colab": {
     "base_uri": "https://localhost:8080/",
     "height": 698
    },
    "id": "GuvEuCFAn0M5",
    "outputId": "39356e80-346c-463d-b51f-673d51db0b69"
   },
   "outputs": [
    {
     "data": {
      "text/html": [
       "<div>\n",
       "<style scoped>\n",
       "    .dataframe tbody tr th:only-of-type {\n",
       "        vertical-align: middle;\n",
       "    }\n",
       "\n",
       "    .dataframe tbody tr th {\n",
       "        vertical-align: top;\n",
       "    }\n",
       "\n",
       "    .dataframe thead th {\n",
       "        text-align: right;\n",
       "    }\n",
       "</style>\n",
       "<table border=\"1\" class=\"dataframe\">\n",
       "  <thead>\n",
       "    <tr style=\"text-align: right;\">\n",
       "      <th></th>\n",
       "      <th>Null Values</th>\n",
       "      <th>% Null Values</th>\n",
       "    </tr>\n",
       "  </thead>\n",
       "  <tbody>\n",
       "    <tr>\n",
       "      <th>scheme_management</th>\n",
       "      <td>2832</td>\n",
       "      <td>0.063569</td>\n",
       "    </tr>\n",
       "    <tr>\n",
       "      <th>installer</th>\n",
       "      <td>2807</td>\n",
       "      <td>0.063008</td>\n",
       "    </tr>\n",
       "    <tr>\n",
       "      <th>funder</th>\n",
       "      <td>2793</td>\n",
       "      <td>0.062694</td>\n",
       "    </tr>\n",
       "    <tr>\n",
       "      <th>extraction_type</th>\n",
       "      <td>0</td>\n",
       "      <td>0.000000</td>\n",
       "    </tr>\n",
       "    <tr>\n",
       "      <th>status_group</th>\n",
       "      <td>0</td>\n",
       "      <td>0.000000</td>\n",
       "    </tr>\n",
       "    <tr>\n",
       "      <th>waterpoint_type</th>\n",
       "      <td>0</td>\n",
       "      <td>0.000000</td>\n",
       "    </tr>\n",
       "    <tr>\n",
       "      <th>source_class</th>\n",
       "      <td>0</td>\n",
       "      <td>0.000000</td>\n",
       "    </tr>\n",
       "    <tr>\n",
       "      <th>quantity</th>\n",
       "      <td>0</td>\n",
       "      <td>0.000000</td>\n",
       "    </tr>\n",
       "    <tr>\n",
       "      <th>quality_group</th>\n",
       "      <td>0</td>\n",
       "      <td>0.000000</td>\n",
       "    </tr>\n",
       "    <tr>\n",
       "      <th>water_quality</th>\n",
       "      <td>0</td>\n",
       "      <td>0.000000</td>\n",
       "    </tr>\n",
       "    <tr>\n",
       "      <th>payment</th>\n",
       "      <td>0</td>\n",
       "      <td>0.000000</td>\n",
       "    </tr>\n",
       "    <tr>\n",
       "      <th>management</th>\n",
       "      <td>0</td>\n",
       "      <td>0.000000</td>\n",
       "    </tr>\n",
       "    <tr>\n",
       "      <th>amount_tsh</th>\n",
       "      <td>0</td>\n",
       "      <td>0.000000</td>\n",
       "    </tr>\n",
       "    <tr>\n",
       "      <th>population</th>\n",
       "      <td>0</td>\n",
       "      <td>0.000000</td>\n",
       "    </tr>\n",
       "    <tr>\n",
       "      <th>lga</th>\n",
       "      <td>0</td>\n",
       "      <td>0.000000</td>\n",
       "    </tr>\n",
       "    <tr>\n",
       "      <th>region_code</th>\n",
       "      <td>0</td>\n",
       "      <td>0.000000</td>\n",
       "    </tr>\n",
       "    <tr>\n",
       "      <th>region</th>\n",
       "      <td>0</td>\n",
       "      <td>0.000000</td>\n",
       "    </tr>\n",
       "    <tr>\n",
       "      <th>basin</th>\n",
       "      <td>0</td>\n",
       "      <td>0.000000</td>\n",
       "    </tr>\n",
       "    <tr>\n",
       "      <th>latitude</th>\n",
       "      <td>0</td>\n",
       "      <td>0.000000</td>\n",
       "    </tr>\n",
       "    <tr>\n",
       "      <th>longitude</th>\n",
       "      <td>0</td>\n",
       "      <td>0.000000</td>\n",
       "    </tr>\n",
       "    <tr>\n",
       "      <th>gps_height</th>\n",
       "      <td>0</td>\n",
       "      <td>0.000000</td>\n",
       "    </tr>\n",
       "    <tr>\n",
       "      <th>age</th>\n",
       "      <td>0</td>\n",
       "      <td>0.000000</td>\n",
       "    </tr>\n",
       "  </tbody>\n",
       "</table>\n",
       "</div>"
      ],
      "text/plain": [
       "                   Null Values  % Null Values\n",
       "scheme_management         2832       0.063569\n",
       "installer                 2807       0.063008\n",
       "funder                    2793       0.062694\n",
       "extraction_type              0       0.000000\n",
       "status_group                 0       0.000000\n",
       "waterpoint_type              0       0.000000\n",
       "source_class                 0       0.000000\n",
       "quantity                     0       0.000000\n",
       "quality_group                0       0.000000\n",
       "water_quality                0       0.000000\n",
       "payment                      0       0.000000\n",
       "management                   0       0.000000\n",
       "amount_tsh                   0       0.000000\n",
       "population                   0       0.000000\n",
       "lga                          0       0.000000\n",
       "region_code                  0       0.000000\n",
       "region                       0       0.000000\n",
       "basin                        0       0.000000\n",
       "latitude                     0       0.000000\n",
       "longitude                    0       0.000000\n",
       "gps_height                   0       0.000000\n",
       "age                          0       0.000000"
      ]
     },
     "execution_count": 377,
     "metadata": {},
     "output_type": "execute_result"
    }
   ],
   "source": [
    "#finding total Null values in the traing set coulmnwise.\n",
    "total_null_values = train.isnull().sum().sort_values(ascending=False)\n",
    "percent_null_values=(train.isnull().sum()/train.isnull().count()).sort_values(ascending=False)\n",
    "totaltrain=pd.concat([total_null_values,percent_null_values],1,keys=['Null Values','% Null Values'])\n",
    "totaltrain"
   ]
  },
  {
   "cell_type": "code",
   "execution_count": 378,
   "metadata": {
    "id": "tseNy7A2HBdF"
   },
   "outputs": [],
   "source": [
    "#filling null_values with mode as data_type of the columns categorical\n",
    "for column in ['scheme_management', 'installer', 'funder']:\n",
    "    train[column].fillna(train[column].mode()[0], inplace=True)"
   ]
  },
  {
   "cell_type": "code",
   "execution_count": 379,
   "metadata": {
    "id": "TIx-zle1cYZV"
   },
   "outputs": [],
   "source": [
    "#handling low frequency levels in 'funder' and 'installer'\n",
    "#converting those that occur 100 times or less and set to 'other'\n",
    "low_freq=['funder','installer']\n",
    "train = train.apply(lambda x: x.mask(x.map(x.value_counts())<100, 'other') if x.name in low_freq else x)"
   ]
  },
  {
   "cell_type": "code",
   "execution_count": 380,
   "metadata": {
    "id": "uNXqQzKUKgA3"
   },
   "outputs": [],
   "source": [
    "#encoding categorical variable\n",
    "column=['installer','funder','basin','region','lga','scheme_management','extraction_type','management','payment','water_quality','quality_group','quantity','source_class','waterpoint_type']\n",
    "for col in column:\n",
    "    train[col]=pd.factorize(train[col])[0]\n",
    "for col in column:\n",
    "    test[col]=pd.factorize(test[col])[0]"
   ]
  },
  {
   "cell_type": "code",
   "execution_count": 381,
   "metadata": {
    "colab": {
     "base_uri": "https://localhost:8080/"
    },
    "id": "FuVPEQLeWYUV",
    "outputId": "43cd4ac9-4458-4b96-c20d-5b15a2ffe6a6"
   },
   "outputs": [
    {
     "name": "stdout",
     "output_type": "stream",
     "text": [
      "The column 'amount_tsh' has range 0.0 to 170000.0\n",
      "The column 'funder' has range 0 to 66\n",
      "The column 'gps_height' has range -90 to 2770\n",
      "The column 'installer' has range 0 to 61\n",
      "The column 'longitude' has range 0.0 to 40.34519307\n",
      "The column 'latitude' has range -11.64837759 to -2e-08\n",
      "The column 'basin' has range 0 to 8\n",
      "The column 'region' has range 0 to 20\n",
      "The column 'region_code' has range 1 to 99\n",
      "The column 'lga' has range 0 to 124\n",
      "The column 'population' has range 0 to 30500\n",
      "The column 'scheme_management' has range 0 to 11\n",
      "The column 'extraction_type' has range 0 to 17\n",
      "The column 'management' has range 0 to 11\n",
      "The column 'payment' has range 0 to 6\n",
      "The column 'water_quality' has range 0 to 7\n",
      "The column 'quality_group' has range 0 to 5\n",
      "The column 'quantity' has range 0 to 4\n",
      "The column 'source_class' has range 0 to 2\n",
      "The column 'waterpoint_type' has range 0 to 6\n",
      "The column 'status_group' has range functional to non functional\n",
      "The column 'age' has range -7 to 53\n"
     ]
    }
   ],
   "source": [
    "#findin maximum and minimum values of each feature columns in training set\n",
    "for col in train.columns.values: \n",
    "    unique_entries = pd.unique(train[col])\n",
    "    print(f\"The column '{col}' has range {unique_entries.min()} to {unique_entries.max()}\") "
   ]
  },
  {
   "cell_type": "code",
   "execution_count": 382,
   "metadata": {
    "colab": {
     "base_uri": "https://localhost:8080/",
     "height": 215
    },
    "id": "acUWQ3a9q3gS",
    "outputId": "7c5d403e-737a-45c6-f6ca-482fe0434bd6"
   },
   "outputs": [
    {
     "data": {
      "text/html": [
       "<div>\n",
       "<style scoped>\n",
       "    .dataframe tbody tr th:only-of-type {\n",
       "        vertical-align: middle;\n",
       "    }\n",
       "\n",
       "    .dataframe tbody tr th {\n",
       "        vertical-align: top;\n",
       "    }\n",
       "\n",
       "    .dataframe thead th {\n",
       "        text-align: right;\n",
       "    }\n",
       "</style>\n",
       "<table border=\"1\" class=\"dataframe\">\n",
       "  <thead>\n",
       "    <tr style=\"text-align: right;\">\n",
       "      <th></th>\n",
       "      <th>amount_tsh</th>\n",
       "      <th>funder</th>\n",
       "      <th>gps_height</th>\n",
       "      <th>installer</th>\n",
       "      <th>longitude</th>\n",
       "      <th>latitude</th>\n",
       "      <th>basin</th>\n",
       "      <th>region</th>\n",
       "      <th>region_code</th>\n",
       "      <th>lga</th>\n",
       "      <th>...</th>\n",
       "      <th>extraction_type</th>\n",
       "      <th>management</th>\n",
       "      <th>payment</th>\n",
       "      <th>water_quality</th>\n",
       "      <th>quality_group</th>\n",
       "      <th>quantity</th>\n",
       "      <th>source_class</th>\n",
       "      <th>waterpoint_type</th>\n",
       "      <th>status_group</th>\n",
       "      <th>age</th>\n",
       "    </tr>\n",
       "  </thead>\n",
       "  <tbody>\n",
       "    <tr>\n",
       "      <th>0</th>\n",
       "      <td>7.0</td>\n",
       "      <td>0</td>\n",
       "      <td>1203</td>\n",
       "      <td>0</td>\n",
       "      <td>37.228664</td>\n",
       "      <td>-3.256505</td>\n",
       "      <td>0</td>\n",
       "      <td>0</td>\n",
       "      <td>3</td>\n",
       "      <td>0</td>\n",
       "      <td>...</td>\n",
       "      <td>0</td>\n",
       "      <td>0</td>\n",
       "      <td>0</td>\n",
       "      <td>0</td>\n",
       "      <td>0</td>\n",
       "      <td>0</td>\n",
       "      <td>0</td>\n",
       "      <td>0</td>\n",
       "      <td>functional</td>\n",
       "      <td>5</td>\n",
       "    </tr>\n",
       "    <tr>\n",
       "      <th>1</th>\n",
       "      <td>0.0</td>\n",
       "      <td>1</td>\n",
       "      <td>1409</td>\n",
       "      <td>1</td>\n",
       "      <td>34.615481</td>\n",
       "      <td>-9.972601</td>\n",
       "      <td>1</td>\n",
       "      <td>1</td>\n",
       "      <td>11</td>\n",
       "      <td>1</td>\n",
       "      <td>...</td>\n",
       "      <td>0</td>\n",
       "      <td>1</td>\n",
       "      <td>1</td>\n",
       "      <td>0</td>\n",
       "      <td>0</td>\n",
       "      <td>0</td>\n",
       "      <td>0</td>\n",
       "      <td>0</td>\n",
       "      <td>functional</td>\n",
       "      <td>27</td>\n",
       "    </tr>\n",
       "    <tr>\n",
       "      <th>2</th>\n",
       "      <td>0.0</td>\n",
       "      <td>2</td>\n",
       "      <td>1572</td>\n",
       "      <td>2</td>\n",
       "      <td>36.658778</td>\n",
       "      <td>-3.321529</td>\n",
       "      <td>0</td>\n",
       "      <td>2</td>\n",
       "      <td>2</td>\n",
       "      <td>2</td>\n",
       "      <td>...</td>\n",
       "      <td>0</td>\n",
       "      <td>2</td>\n",
       "      <td>1</td>\n",
       "      <td>0</td>\n",
       "      <td>0</td>\n",
       "      <td>1</td>\n",
       "      <td>0</td>\n",
       "      <td>0</td>\n",
       "      <td>non functional</td>\n",
       "      <td>11</td>\n",
       "    </tr>\n",
       "    <tr>\n",
       "      <th>3</th>\n",
       "      <td>0.0</td>\n",
       "      <td>3</td>\n",
       "      <td>0</td>\n",
       "      <td>3</td>\n",
       "      <td>33.628025</td>\n",
       "      <td>-8.860795</td>\n",
       "      <td>2</td>\n",
       "      <td>3</td>\n",
       "      <td>12</td>\n",
       "      <td>3</td>\n",
       "      <td>...</td>\n",
       "      <td>0</td>\n",
       "      <td>3</td>\n",
       "      <td>2</td>\n",
       "      <td>0</td>\n",
       "      <td>0</td>\n",
       "      <td>1</td>\n",
       "      <td>1</td>\n",
       "      <td>0</td>\n",
       "      <td>functional</td>\n",
       "      <td>18</td>\n",
       "    </tr>\n",
       "    <tr>\n",
       "      <th>4</th>\n",
       "      <td>300.0</td>\n",
       "      <td>3</td>\n",
       "      <td>1283</td>\n",
       "      <td>3</td>\n",
       "      <td>37.655509</td>\n",
       "      <td>-3.669777</td>\n",
       "      <td>0</td>\n",
       "      <td>0</td>\n",
       "      <td>3</td>\n",
       "      <td>4</td>\n",
       "      <td>...</td>\n",
       "      <td>0</td>\n",
       "      <td>2</td>\n",
       "      <td>3</td>\n",
       "      <td>0</td>\n",
       "      <td>0</td>\n",
       "      <td>1</td>\n",
       "      <td>0</td>\n",
       "      <td>0</td>\n",
       "      <td>functional</td>\n",
       "      <td>6</td>\n",
       "    </tr>\n",
       "  </tbody>\n",
       "</table>\n",
       "<p>5 rows × 22 columns</p>\n",
       "</div>"
      ],
      "text/plain": [
       "   amount_tsh  funder  gps_height  installer  longitude  latitude  basin  \\\n",
       "0         7.0       0        1203          0  37.228664 -3.256505      0   \n",
       "1         0.0       1        1409          1  34.615481 -9.972601      1   \n",
       "2         0.0       2        1572          2  36.658778 -3.321529      0   \n",
       "3         0.0       3           0          3  33.628025 -8.860795      2   \n",
       "4       300.0       3        1283          3  37.655509 -3.669777      0   \n",
       "\n",
       "   region  region_code  lga  ...  extraction_type  management  payment  \\\n",
       "0       0            3    0  ...                0           0        0   \n",
       "1       1           11    1  ...                0           1        1   \n",
       "2       2            2    2  ...                0           2        1   \n",
       "3       3           12    3  ...                0           3        2   \n",
       "4       0            3    4  ...                0           2        3   \n",
       "\n",
       "   water_quality  quality_group  quantity  source_class  waterpoint_type  \\\n",
       "0              0              0         0             0                0   \n",
       "1              0              0         0             0                0   \n",
       "2              0              0         1             0                0   \n",
       "3              0              0         1             1                0   \n",
       "4              0              0         1             0                0   \n",
       "\n",
       "     status_group  age  \n",
       "0      functional    5  \n",
       "1      functional   27  \n",
       "2  non functional   11  \n",
       "3      functional   18  \n",
       "4      functional    6  \n",
       "\n",
       "[5 rows x 22 columns]"
      ]
     },
     "execution_count": 382,
     "metadata": {},
     "output_type": "execute_result"
    }
   ],
   "source": [
    "train.head()"
   ]
  },
  {
   "cell_type": "markdown",
   "metadata": {},
   "source": [
    "### here we are done with our data preprocessing of the traing set."
   ]
  },
  {
   "cell_type": "markdown",
   "metadata": {
    "id": "FzI69EMSspuD"
   },
   "source": [
    "# Spliting the training set"
   ]
  },
  {
   "cell_type": "code",
   "execution_count": 383,
   "metadata": {
    "id": "kNbM_NI7vvUC"
   },
   "outputs": [
    {
     "name": "stdout",
     "output_type": "stream",
     "text": [
      "functional                 24194\n",
      "non functional             17118\n",
      "functional needs repair     3238\n",
      "Name: status_group, dtype: int64\n",
      "1    24194\n",
      "2    17118\n",
      "3     3238\n",
      "Name: status_group, dtype: int64\n"
     ]
    }
   ],
   "source": [
    "x_train = train.drop(['status_group'],1)\n",
    "y_train = train['status_group']\n",
    "\n",
    "print(y_train.value_counts())\n",
    "\n",
    "y_train = y_train.map({'functional':1,'non functional':2,'functional needs repair':3})\n",
    "print(y_train.value_counts())"
   ]
  },
  {
   "cell_type": "markdown",
   "metadata": {
    "colab": {
     "base_uri": "https://localhost:8080/"
    },
    "id": "MO7gumYmzQLV",
    "outputId": "0dec05c7-79da-41ce-e49c-f524d99d6930"
   },
   "source": [
    "# Hyperparameter tuning and model building"
   ]
  },
  {
   "cell_type": "code",
   "execution_count": 384,
   "metadata": {},
   "outputs": [],
   "source": [
    "#spliting the given training set into train and test set for cross validation\n",
    "from sklearn.model_selection import train_test_split\n",
    "X_train, X_test, y_train, y_test = train_test_split(x_train, y_train, test_size = 0.20, random_state = 0)"
   ]
  },
  {
   "cell_type": "markdown",
   "metadata": {},
   "source": [
    "### Hyperparameter tuning for RandomForestClassifier"
   ]
  },
  {
   "cell_type": "code",
   "execution_count": 385,
   "metadata": {},
   "outputs": [
    {
     "data": {
      "text/plain": [
       "RandomForestClassifier(random_state=0)"
      ]
     },
     "execution_count": 385,
     "metadata": {},
     "output_type": "execute_result"
    }
   ],
   "source": [
    "from sklearn.ensemble import RandomForestClassifier\n",
    "classifier_r= RandomForestClassifier(random_state=0)\n",
    "classifier_r.fit(X_train, y_train)"
   ]
  },
  {
   "cell_type": "code",
   "execution_count": 386,
   "metadata": {},
   "outputs": [
    {
     "name": "stdout",
     "output_type": "stream",
     "text": [
      "Best Accuracy: 79.25 %\n",
      "Best Parameters: {'max_depth': 20, 'max_features': 'auto', 'n_estimators': 15}\n"
     ]
    }
   ],
   "source": [
    "n_estimators=[8,12,15]\n",
    "max_features=['auto', 'log2']\n",
    "max_depth=[8,10,20]\n",
    "from sklearn.model_selection import GridSearchCV\n",
    "from sklearn.ensemble import RandomForestClassifier\n",
    "hyperparameter={'n_estimators':n_estimators,'max_features':max_features,'max_depth':max_depth}\n",
    "grid_search = GridSearchCV(estimator=classifier_r,param_grid=hyperparameter,cv=5,n_jobs=6,scoring = 'accuracy')\n",
    "grid_search.fit(X_train,y_train)\n",
    "best_accuracy = grid_search.best_score_\n",
    "best_parameters = grid_search.best_params_\n",
    "print(\"Best Accuracy: {:.2f} %\".format(best_accuracy*100))\n",
    "print(\"Best Parameters:\", best_parameters)"
   ]
  },
  {
   "cell_type": "code",
   "execution_count": 387,
   "metadata": {
    "scrolled": true
   },
   "outputs": [
    {
     "name": "stdout",
     "output_type": "stream",
     "text": [
      "CV_score: 79.25645342312009\n",
      "Test_Accurarcy: 78.45117845117845\n"
     ]
    }
   ],
   "source": [
    "#cross validation using splitted Test set\n",
    "from sklearn.model_selection import cross_val_score\n",
    "classifier_r=RandomForestClassifier(max_depth=20, max_features='auto', n_estimators= 20)\n",
    "classifier_r.fit(X_train,y_train)\n",
    "score=cross_val_score(classifier_r,X_train,y_train,cv=5)\n",
    "print(\"CV_score:\",np.mean(score)*100)\n",
    "print(\"Test_Accurarcy:\",classifier_r.score(X_test,y_test)*100)"
   ]
  },
  {
   "cell_type": "markdown",
   "metadata": {},
   "source": [
    "#### Feature ranking with recursive feature elimination and cross-validated selection of the best number of features."
   ]
  },
  {
   "cell_type": "code",
   "execution_count": 388,
   "metadata": {},
   "outputs": [
    {
     "name": "stdout",
     "output_type": "stream",
     "text": [
      "21\n",
      "[1 1 1 1 1 1 1 1 1 1 1 1 1 1 1 1 1 1 1 1 1]\n"
     ]
    }
   ],
   "source": [
    "from sklearn.feature_selection import RFECV\n",
    "selector=RFECV(classifier_r,min_features_to_select=1)\n",
    "selector=selector.fit(X_train,y_train)\n",
    "print(selector.n_features_)\n",
    "print(selector.ranking_)"
   ]
  },
  {
   "cell_type": "code",
   "execution_count": 389,
   "metadata": {
    "scrolled": true
   },
   "outputs": [
    {
     "name": "stdout",
     "output_type": "stream",
     "text": [
      "Important feature : amount_tsh\n",
      "Important feature : funder\n",
      "Important feature : gps_height\n",
      "Important feature : installer\n",
      "Important feature : longitude\n",
      "Important feature : latitude\n",
      "Important feature : basin\n",
      "Important feature : region\n",
      "Important feature : region_code\n",
      "Important feature : lga\n",
      "Important feature : population\n",
      "Important feature : scheme_management\n",
      "Important feature : extraction_type\n",
      "Important feature : management\n",
      "Important feature : payment\n",
      "Important feature : water_quality\n",
      "Important feature : quality_group\n",
      "Important feature : quantity\n",
      "Important feature : source_class\n",
      "Important feature : waterpoint_type\n",
      "Important feature : age\n"
     ]
    }
   ],
   "source": [
    "rank=selector.ranking_\n",
    "dict1=dict(enumerate(X_train.columns))\n",
    "for i in range(len(rank)):\n",
    "    if rank[i]==1:\n",
    "        print(\"Important feature : {}\".format(dict1[i]))\n",
    "for i in range(len(rank)):\n",
    "    if rank[i]!=1:        \n",
    "        print(\"Redundant Feature : {}\".format(dict1[i]))     "
   ]
  },
  {
   "cell_type": "markdown",
   "metadata": {},
   "source": [
    "##### Redundant features will be eliminated in the second round of feature selection as they have low importance or ranking"
   ]
  },
  {
   "cell_type": "markdown",
   "metadata": {},
   "source": [
    "### Hyperparameter tuning for DecisionTreeClassifier"
   ]
  },
  {
   "cell_type": "code",
   "execution_count": 390,
   "metadata": {},
   "outputs": [
    {
     "data": {
      "text/plain": [
       "DecisionTreeClassifier(criterion='entropy', random_state=0)"
      ]
     },
     "execution_count": 390,
     "metadata": {},
     "output_type": "execute_result"
    }
   ],
   "source": [
    "from sklearn.tree import DecisionTreeClassifier\n",
    "classifier = DecisionTreeClassifier(criterion = 'entropy', random_state = 0)\n",
    "classifier.fit(X_train, y_train)"
   ]
  },
  {
   "cell_type": "code",
   "execution_count": null,
   "metadata": {},
   "outputs": [],
   "source": []
  },
  {
   "cell_type": "markdown",
   "metadata": {},
   "source": [
    "### Hyperparameter tuning for ExtraTreesClassifier"
   ]
  },
  {
   "cell_type": "code",
   "execution_count": 391,
   "metadata": {
    "id": "N6awZcQB0wF7"
   },
   "outputs": [
    {
     "data": {
      "text/plain": [
       "ExtraTreesClassifier(random_state=49)"
      ]
     },
     "execution_count": 391,
     "metadata": {},
     "output_type": "execute_result"
    }
   ],
   "source": [
    "from sklearn.ensemble import ExtraTreesClassifier\n",
    "classifier_extra=ExtraTreesClassifier(random_state=49)\n",
    "classifier_extra.fit(X_train,y_train)"
   ]
  },
  {
   "cell_type": "code",
   "execution_count": 392,
   "metadata": {},
   "outputs": [
    {
     "name": "stdout",
     "output_type": "stream",
     "text": [
      "Best Accuracy: 79.01 %\n",
      "Best Parameters: {'criterion': 'entropy', 'max_depth': 20, 'n_estimators': 18}\n"
     ]
    }
   ],
   "source": [
    "n_estimators=[8,12,18]\n",
    "max_depth = [8, 10, 20]\n",
    "criterion= ['entropy','gini']\n",
    "hyperparameter={'n_estimators':n_estimators,'max_depth':max_depth,'criterion':criterion}\n",
    "from sklearn.model_selection import GridSearchCV\n",
    "grid_search = GridSearchCV(estimator=classifier_extra,param_grid=hyperparameter,cv=5,n_jobs=4,scoring = 'accuracy')\n",
    "grid_search.fit(X_train,y_train)\n",
    "best_accuracy = grid_search.best_score_\n",
    "best_parameters = grid_search.best_params_\n",
    "print(\"Best Accuracy: {:.2f} %\".format(best_accuracy*100))\n",
    "print(\"Best Parameters:\", best_parameters)"
   ]
  },
  {
   "cell_type": "code",
   "execution_count": 393,
   "metadata": {},
   "outputs": [
    {
     "name": "stdout",
     "output_type": "stream",
     "text": [
      "CV_score: 78.83838383838383\n",
      "Test_Accurarcy: 78.28282828282829\n"
     ]
    }
   ],
   "source": [
    "#cross validation using Test set\n",
    "from sklearn.model_selection import cross_val_score\n",
    "classifier_extra=ExtraTreesClassifier(max_depth=20,criterion='gini',n_estimators= 20)\n",
    "classifier_extra.fit(X_train,y_train)\n",
    "score=cross_val_score(classifier_extra,X_train,y_train,cv=5)\n",
    "print(\"CV_score:\",np.mean(score)*100)\n",
    "print(\"Test_Accurarcy:\",classifier_extra.score(X_test,y_test)*100)"
   ]
  },
  {
   "cell_type": "markdown",
   "metadata": {},
   "source": [
    "# Feature engineering-2"
   ]
  },
  {
   "cell_type": "markdown",
   "metadata": {},
   "source": [
    "### For better accuracy:-\n",
    "#### 1)We will remove the useless features on the basis of recursive feature elimination and cross-validation ranking.\n",
    "#### 2)We have changed latitute and longitute columns by x, y and z coordinates for the better represented of the locations.\n",
    "#### 3)We have standardized: amount_tsh, gps_height and population columns just to avoid over-training of the model on one feature over another."
   ]
  },
  {
   "cell_type": "code",
   "execution_count": 394,
   "metadata": {},
   "outputs": [],
   "source": [
    "train = train.drop(['basin','region_code','scheme_management','water_quality','quality_group','source_class'],1)"
   ]
  },
  {
   "cell_type": "code",
   "execution_count": 395,
   "metadata": {},
   "outputs": [],
   "source": [
    "train['x_cord']=np.cos(train[\"longitude\"].astype(np.float64))*np.cos(train[\"latitude\"].astype(np.float64))\n",
    "train['y_cord']=np.sin(train[\"longitude\"].astype(np.float64))*np.cos(train[\"latitude\"].astype(np.float64))\n",
    "train['z_cord']=np.sin(train[\"latitude\"].astype(np.float64))"
   ]
  },
  {
   "cell_type": "code",
   "execution_count": 396,
   "metadata": {},
   "outputs": [],
   "source": [
    "train = train.drop(['longitude','latitude'],1)"
   ]
  },
  {
   "cell_type": "code",
   "execution_count": 397,
   "metadata": {
    "scrolled": true
   },
   "outputs": [
    {
     "data": {
      "text/html": [
       "<div>\n",
       "<style scoped>\n",
       "    .dataframe tbody tr th:only-of-type {\n",
       "        vertical-align: middle;\n",
       "    }\n",
       "\n",
       "    .dataframe tbody tr th {\n",
       "        vertical-align: top;\n",
       "    }\n",
       "\n",
       "    .dataframe thead th {\n",
       "        text-align: right;\n",
       "    }\n",
       "</style>\n",
       "<table border=\"1\" class=\"dataframe\">\n",
       "  <thead>\n",
       "    <tr style=\"text-align: right;\">\n",
       "      <th></th>\n",
       "      <th>amount_tsh</th>\n",
       "      <th>funder</th>\n",
       "      <th>gps_height</th>\n",
       "      <th>installer</th>\n",
       "      <th>region</th>\n",
       "      <th>lga</th>\n",
       "      <th>population</th>\n",
       "      <th>extraction_type</th>\n",
       "      <th>management</th>\n",
       "      <th>payment</th>\n",
       "      <th>quantity</th>\n",
       "      <th>waterpoint_type</th>\n",
       "      <th>status_group</th>\n",
       "      <th>age</th>\n",
       "      <th>x_cord</th>\n",
       "      <th>y_cord</th>\n",
       "      <th>z_cord</th>\n",
       "    </tr>\n",
       "  </thead>\n",
       "  <tbody>\n",
       "    <tr>\n",
       "      <th>0</th>\n",
       "      <td>7.0</td>\n",
       "      <td>0</td>\n",
       "      <td>1203</td>\n",
       "      <td>0</td>\n",
       "      <td>0</td>\n",
       "      <td>0</td>\n",
       "      <td>90</td>\n",
       "      <td>0</td>\n",
       "      <td>0</td>\n",
       "      <td>0</td>\n",
       "      <td>0</td>\n",
       "      <td>0</td>\n",
       "      <td>functional</td>\n",
       "      <td>5</td>\n",
       "      <td>-0.885487</td>\n",
       "      <td>0.450296</td>\n",
       "      <td>0.114659</td>\n",
       "    </tr>\n",
       "    <tr>\n",
       "      <th>1</th>\n",
       "      <td>0.0</td>\n",
       "      <td>1</td>\n",
       "      <td>1409</td>\n",
       "      <td>1</td>\n",
       "      <td>1</td>\n",
       "      <td>1</td>\n",
       "      <td>70</td>\n",
       "      <td>0</td>\n",
       "      <td>1</td>\n",
       "      <td>1</td>\n",
       "      <td>0</td>\n",
       "      <td>0</td>\n",
       "      <td>functional</td>\n",
       "      <td>27</td>\n",
       "      <td>0.852227</td>\n",
       "      <td>0.049452</td>\n",
       "      <td>0.520830</td>\n",
       "    </tr>\n",
       "    <tr>\n",
       "      <th>2</th>\n",
       "      <td>0.0</td>\n",
       "      <td>2</td>\n",
       "      <td>1572</td>\n",
       "      <td>2</td>\n",
       "      <td>2</td>\n",
       "      <td>2</td>\n",
       "      <td>150</td>\n",
       "      <td>0</td>\n",
       "      <td>2</td>\n",
       "      <td>1</td>\n",
       "      <td>1</td>\n",
       "      <td>0</td>\n",
       "      <td>non functional</td>\n",
       "      <td>11</td>\n",
       "      <td>-0.497764</td>\n",
       "      <td>0.848647</td>\n",
       "      <td>0.178967</td>\n",
       "    </tr>\n",
       "    <tr>\n",
       "      <th>3</th>\n",
       "      <td>0.0</td>\n",
       "      <td>3</td>\n",
       "      <td>0</td>\n",
       "      <td>3</td>\n",
       "      <td>3</td>\n",
       "      <td>3</td>\n",
       "      <td>0</td>\n",
       "      <td>0</td>\n",
       "      <td>3</td>\n",
       "      <td>2</td>\n",
       "      <td>1</td>\n",
       "      <td>0</td>\n",
       "      <td>functional</td>\n",
       "      <td>18</td>\n",
       "      <td>0.505592</td>\n",
       "      <td>-0.677220</td>\n",
       "      <td>-0.534556</td>\n",
       "    </tr>\n",
       "    <tr>\n",
       "      <th>4</th>\n",
       "      <td>300.0</td>\n",
       "      <td>3</td>\n",
       "      <td>1283</td>\n",
       "      <td>3</td>\n",
       "      <td>0</td>\n",
       "      <td>4</td>\n",
       "      <td>34</td>\n",
       "      <td>0</td>\n",
       "      <td>2</td>\n",
       "      <td>3</td>\n",
       "      <td>1</td>\n",
       "      <td>0</td>\n",
       "      <td>functional</td>\n",
       "      <td>6</td>\n",
       "      <td>-0.862903</td>\n",
       "      <td>0.037649</td>\n",
       "      <td>0.503966</td>\n",
       "    </tr>\n",
       "  </tbody>\n",
       "</table>\n",
       "</div>"
      ],
      "text/plain": [
       "   amount_tsh  funder  gps_height  installer  region  lga  population  \\\n",
       "0         7.0       0        1203          0       0    0          90   \n",
       "1         0.0       1        1409          1       1    1          70   \n",
       "2         0.0       2        1572          2       2    2         150   \n",
       "3         0.0       3           0          3       3    3           0   \n",
       "4       300.0       3        1283          3       0    4          34   \n",
       "\n",
       "   extraction_type  management  payment  quantity  waterpoint_type  \\\n",
       "0                0           0        0         0                0   \n",
       "1                0           1        1         0                0   \n",
       "2                0           2        1         1                0   \n",
       "3                0           3        2         1                0   \n",
       "4                0           2        3         1                0   \n",
       "\n",
       "     status_group  age    x_cord    y_cord    z_cord  \n",
       "0      functional    5 -0.885487  0.450296  0.114659  \n",
       "1      functional   27  0.852227  0.049452  0.520830  \n",
       "2  non functional   11 -0.497764  0.848647  0.178967  \n",
       "3      functional   18  0.505592 -0.677220 -0.534556  \n",
       "4      functional    6 -0.862903  0.037649  0.503966  "
      ]
     },
     "execution_count": 397,
     "metadata": {},
     "output_type": "execute_result"
    }
   ],
   "source": [
    "train.head()"
   ]
  },
  {
   "cell_type": "code",
   "execution_count": 398,
   "metadata": {},
   "outputs": [
    {
     "data": {
      "text/plain": [
       "(44550, 17)"
      ]
     },
     "execution_count": 398,
     "metadata": {},
     "output_type": "execute_result"
    }
   ],
   "source": [
    "train.shape"
   ]
  },
  {
   "cell_type": "code",
   "execution_count": 399,
   "metadata": {},
   "outputs": [
    {
     "name": "stdout",
     "output_type": "stream",
     "text": [
      "The column 'amount_tsh' has range 0.0 to 170000.0\n",
      "The column 'funder' has range 0 to 66\n",
      "The column 'gps_height' has range -90 to 2770\n",
      "The column 'installer' has range 0 to 61\n",
      "The column 'region' has range 0 to 20\n",
      "The column 'lga' has range 0 to 124\n",
      "The column 'population' has range 0 to 30500\n",
      "The column 'extraction_type' has range 0 to 17\n",
      "The column 'management' has range 0 to 11\n",
      "The column 'payment' has range 0 to 6\n",
      "The column 'quantity' has range 0 to 4\n",
      "The column 'waterpoint_type' has range 0 to 6\n",
      "The column 'status_group' has range functional to non functional\n",
      "The column 'age' has range -7 to 53\n",
      "The column 'x_cord' has range -0.999815609347757 to 0.9999999999999998\n",
      "The column 'y_cord' has range -0.9999799236831607 to 0.9954478584746386\n",
      "The column 'z_cord' has range -0.9999999997444838 to 0.9999999999951028\n"
     ]
    }
   ],
   "source": [
    "# finding max and min values of each feature columns in training set\n",
    "for col in train.columns.values: \n",
    "    unique_entries = pd.unique(train[col])\n",
    "    print(f\"The column '{col}' has range {unique_entries.min()} to {unique_entries.max()}\")\n",
    " "
   ]
  },
  {
   "cell_type": "markdown",
   "metadata": {},
   "source": [
    "# Spliting the training set"
   ]
  },
  {
   "cell_type": "code",
   "execution_count": 400,
   "metadata": {},
   "outputs": [],
   "source": [
    "x_train = train.drop(['status_group'],1)\n",
    "y_train = train['status_group']"
   ]
  },
  {
   "cell_type": "code",
   "execution_count": 401,
   "metadata": {},
   "outputs": [
    {
     "name": "stdout",
     "output_type": "stream",
     "text": [
      "functional                 24194\n",
      "non functional             17118\n",
      "functional needs repair     3238\n",
      "Name: status_group, dtype: int64\n",
      "1    24194\n",
      "2    17118\n",
      "3     3238\n",
      "Name: status_group, dtype: int64\n"
     ]
    }
   ],
   "source": [
    "#encoding dependent feature coulumns\n",
    "print(y_train.value_counts())\n",
    "#converting each unquie value of dependent feature into a numeric value\n",
    "y_train=y_train.map({'functional':1,'non functional':2,'functional needs repair':3})\n",
    "print(y_train.value_counts())"
   ]
  },
  {
   "cell_type": "markdown",
   "metadata": {},
   "source": [
    "## Hyperparameter tuning and model building"
   ]
  },
  {
   "cell_type": "code",
   "execution_count": 402,
   "metadata": {},
   "outputs": [],
   "source": [
    "#further spliting the training set into train and test set for cross validation\n",
    "from sklearn.model_selection import train_test_split\n",
    "X_train, X_test, y_train, y_test = train_test_split(x_train, y_train, test_size = 0.20, random_state = 0)"
   ]
  },
  {
   "cell_type": "markdown",
   "metadata": {},
   "source": [
    "### Hyperparameter tuning for RandomForestClassifier"
   ]
  },
  {
   "cell_type": "code",
   "execution_count": 403,
   "metadata": {},
   "outputs": [
    {
     "data": {
      "text/plain": [
       "RandomForestClassifier(random_state=0)"
      ]
     },
     "execution_count": 403,
     "metadata": {},
     "output_type": "execute_result"
    }
   ],
   "source": [
    "from sklearn.ensemble import RandomForestClassifier\n",
    "classifier_r= RandomForestClassifier(random_state=0)\n",
    "classifier_r.fit(X_train, y_train)"
   ]
  },
  {
   "cell_type": "code",
   "execution_count": 404,
   "metadata": {},
   "outputs": [
    {
     "name": "stdout",
     "output_type": "stream",
     "text": [
      "Best Accuracy: 79.05 %\n",
      "Best Parameters: {'max_depth': 20, 'max_features': 'auto', 'n_estimators': 15}\n"
     ]
    }
   ],
   "source": [
    "n_estimators=[8,12,15]\n",
    "max_features=['auto', 'log2']\n",
    "max_depth=[8,10,20]\n",
    "from sklearn.model_selection import GridSearchCV\n",
    "from sklearn.ensemble import RandomForestClassifier\n",
    "hyperparameter={'n_estimators':n_estimators,'max_features':max_features,'max_depth':max_depth}\n",
    "grid_search = GridSearchCV(estimator=classifier_r,param_grid=hyperparameter,cv=5,n_jobs=6,scoring = 'accuracy')\n",
    "grid_search.fit(X_train,y_train)\n",
    "best_accuracy = grid_search.best_score_\n",
    "best_parameters = grid_search.best_params_\n",
    "print(\"Best Accuracy: {:.2f} %\".format(best_accuracy*100))\n",
    "print(\"Best Parameters:\", best_parameters)"
   ]
  },
  {
   "cell_type": "code",
   "execution_count": 405,
   "metadata": {
    "scrolled": true
   },
   "outputs": [
    {
     "name": "stdout",
     "output_type": "stream",
     "text": [
      "CV_score: 79.2480359147026\n",
      "Test_Accurarcy: 78.13692480359147\n"
     ]
    }
   ],
   "source": [
    "#cross validation using splitted Test set\n",
    "from sklearn.model_selection import cross_val_score\n",
    "classifier_r=RandomForestClassifier(max_depth=20, max_features='auto', n_estimators= 20)\n",
    "classifier_r.fit(X_train,y_train)\n",
    "score=cross_val_score(classifier_r,X_train,y_train,cv=5)\n",
    "print(\"CV_score:\",np.mean(score)*100)\n",
    "print(\"Test_Accurarcy:\",classifier_r.score(X_test,y_test)*100)"
   ]
  },
  {
   "cell_type": "markdown",
   "metadata": {},
   "source": [
    "## Visualization using T-sne"
   ]
  },
  {
   "cell_type": "code",
   "execution_count": 406,
   "metadata": {},
   "outputs": [
    {
     "name": "stderr",
     "output_type": "stream",
     "text": [
      "/Users/udayshankar/miniforge3/envs/ml/lib/python3.8/site-packages/seaborn/axisgrid.py:316: UserWarning: The `size` parameter has been renamed to `height`; please update your code.\n",
      "  warnings.warn(msg, UserWarning)\n"
     ]
    },
    {
     "data": {
      "image/png": "[encoded data removed]",
      "text/plain": [
       "<Figure size 484x432 with 1 Axes>"
      ]
     },
     "metadata": {
      "needs_background": "light"
     },
     "output_type": "display_data"
    }
   ],
   "source": [
    "from sklearn.manifold import TSNE\n",
    "model = TSNE(n_components=2, random_state=0, perplexity=40,  n_iter=4000)\n",
    "tsne_data = model.fit_transform(x_train[:1000])\n",
    "# creating a new data fram which help us in ploting the result data\n",
    "tsne_data = np.vstack((tsne_data.T, y_train[:1000])).T\n",
    "tsne_df = pd.DataFrame(data=tsne_data, columns=(\"Dim_1\", \"Dim_2\", \"label\"))\n",
    "# Ploting the result of tsne\n",
    "sns.FacetGrid(tsne_df, hue=\"label\", size=6).map(plt.scatter, 'Dim_1', 'Dim_2').add_legend()\n",
    "plt.title('With perplexity = 40, n_iter=4000')\n",
    "plt.show()"
   ]
  },
  {
   "cell_type": "markdown",
   "metadata": {},
   "source": [
    "## Feature engineering on Test data  "
   ]
  },
  {
   "cell_type": "code",
   "execution_count": 407,
   "metadata": {},
   "outputs": [],
   "source": [
    "#Adding a new column \"AGE of the pump\"\n",
    "test['construction_year'] = test['construction_year'].replace({0:1993})\n",
    "test['age'] = pd.DatetimeIndex(test['date_recorded']).year.astype(int)-test['construction_year']"
   ]
  },
  {
   "cell_type": "code",
   "execution_count": 408,
   "metadata": {},
   "outputs": [],
   "source": [
    "#dropping id and data_recorded column\n",
    "test = test.drop(['id','date_recorded','Unnamed: 0'],1)"
   ]
  },
  {
   "cell_type": "code",
   "execution_count": 409,
   "metadata": {},
   "outputs": [],
   "source": [
    "#dropping public meeting, permit features,ward etc. which will not affect our model.\n",
    "test = test.drop(['source_type','source','extraction_type_group','extraction_type_class','payment_type','quantity_group','waterpoint_type_group'],1)"
   ]
  },
  {
   "cell_type": "code",
   "execution_count": 410,
   "metadata": {},
   "outputs": [],
   "source": [
    "#dropping public meeting, permit features,ward etc. which will not affect our model.\n",
    "test = test.drop(['public_meeting','permit','ward','subvillage','recorded_by','district_code','num_private','wpt_name','scheme_name','construction_year','management_group'],1)"
   ]
  },
  {
   "cell_type": "code",
   "execution_count": 411,
   "metadata": {},
   "outputs": [
    {
     "data": {
      "text/html": [
       "<div>\n",
       "<style scoped>\n",
       "    .dataframe tbody tr th:only-of-type {\n",
       "        vertical-align: middle;\n",
       "    }\n",
       "\n",
       "    .dataframe tbody tr th {\n",
       "        vertical-align: top;\n",
       "    }\n",
       "\n",
       "    .dataframe thead th {\n",
       "        text-align: right;\n",
       "    }\n",
       "</style>\n",
       "<table border=\"1\" class=\"dataframe\">\n",
       "  <thead>\n",
       "    <tr style=\"text-align: right;\">\n",
       "      <th></th>\n",
       "      <th>Null Values</th>\n",
       "      <th>% Null Values</th>\n",
       "    </tr>\n",
       "  </thead>\n",
       "  <tbody>\n",
       "    <tr>\n",
       "      <th>amount_tsh</th>\n",
       "      <td>0</td>\n",
       "      <td>0.0</td>\n",
       "    </tr>\n",
       "    <tr>\n",
       "      <th>scheme_management</th>\n",
       "      <td>0</td>\n",
       "      <td>0.0</td>\n",
       "    </tr>\n",
       "    <tr>\n",
       "      <th>waterpoint_type</th>\n",
       "      <td>0</td>\n",
       "      <td>0.0</td>\n",
       "    </tr>\n",
       "    <tr>\n",
       "      <th>source_class</th>\n",
       "      <td>0</td>\n",
       "      <td>0.0</td>\n",
       "    </tr>\n",
       "    <tr>\n",
       "      <th>quantity</th>\n",
       "      <td>0</td>\n",
       "      <td>0.0</td>\n",
       "    </tr>\n",
       "    <tr>\n",
       "      <th>quality_group</th>\n",
       "      <td>0</td>\n",
       "      <td>0.0</td>\n",
       "    </tr>\n",
       "    <tr>\n",
       "      <th>water_quality</th>\n",
       "      <td>0</td>\n",
       "      <td>0.0</td>\n",
       "    </tr>\n",
       "    <tr>\n",
       "      <th>payment</th>\n",
       "      <td>0</td>\n",
       "      <td>0.0</td>\n",
       "    </tr>\n",
       "    <tr>\n",
       "      <th>management</th>\n",
       "      <td>0</td>\n",
       "      <td>0.0</td>\n",
       "    </tr>\n",
       "    <tr>\n",
       "      <th>extraction_type</th>\n",
       "      <td>0</td>\n",
       "      <td>0.0</td>\n",
       "    </tr>\n",
       "    <tr>\n",
       "      <th>population</th>\n",
       "      <td>0</td>\n",
       "      <td>0.0</td>\n",
       "    </tr>\n",
       "    <tr>\n",
       "      <th>funder</th>\n",
       "      <td>0</td>\n",
       "      <td>0.0</td>\n",
       "    </tr>\n",
       "    <tr>\n",
       "      <th>lga</th>\n",
       "      <td>0</td>\n",
       "      <td>0.0</td>\n",
       "    </tr>\n",
       "    <tr>\n",
       "      <th>region_code</th>\n",
       "      <td>0</td>\n",
       "      <td>0.0</td>\n",
       "    </tr>\n",
       "    <tr>\n",
       "      <th>region</th>\n",
       "      <td>0</td>\n",
       "      <td>0.0</td>\n",
       "    </tr>\n",
       "    <tr>\n",
       "      <th>basin</th>\n",
       "      <td>0</td>\n",
       "      <td>0.0</td>\n",
       "    </tr>\n",
       "    <tr>\n",
       "      <th>latitude</th>\n",
       "      <td>0</td>\n",
       "      <td>0.0</td>\n",
       "    </tr>\n",
       "    <tr>\n",
       "      <th>longitude</th>\n",
       "      <td>0</td>\n",
       "      <td>0.0</td>\n",
       "    </tr>\n",
       "    <tr>\n",
       "      <th>installer</th>\n",
       "      <td>0</td>\n",
       "      <td>0.0</td>\n",
       "    </tr>\n",
       "    <tr>\n",
       "      <th>gps_height</th>\n",
       "      <td>0</td>\n",
       "      <td>0.0</td>\n",
       "    </tr>\n",
       "    <tr>\n",
       "      <th>age</th>\n",
       "      <td>0</td>\n",
       "      <td>0.0</td>\n",
       "    </tr>\n",
       "  </tbody>\n",
       "</table>\n",
       "</div>"
      ],
      "text/plain": [
       "                   Null Values  % Null Values\n",
       "amount_tsh                   0            0.0\n",
       "scheme_management            0            0.0\n",
       "waterpoint_type              0            0.0\n",
       "source_class                 0            0.0\n",
       "quantity                     0            0.0\n",
       "quality_group                0            0.0\n",
       "water_quality                0            0.0\n",
       "payment                      0            0.0\n",
       "management                   0            0.0\n",
       "extraction_type              0            0.0\n",
       "population                   0            0.0\n",
       "funder                       0            0.0\n",
       "lga                          0            0.0\n",
       "region_code                  0            0.0\n",
       "region                       0            0.0\n",
       "basin                        0            0.0\n",
       "latitude                     0            0.0\n",
       "longitude                    0            0.0\n",
       "installer                    0            0.0\n",
       "gps_height                   0            0.0\n",
       "age                          0            0.0"
      ]
     },
     "execution_count": 411,
     "metadata": {},
     "output_type": "execute_result"
    }
   ],
   "source": [
    "#handling missing values of test set\n",
    "total_null_values = test.isnull().sum().sort_values(ascending=False)\n",
    "percent_null_values=(test.isnull().sum()/test.isnull().count()).sort_values(ascending=False)\n",
    "total_test=pd.concat([total_null_values,percent_null_values],1,keys=['Null Values','% Null Values'])\n",
    "total_test"
   ]
  },
  {
   "cell_type": "code",
   "execution_count": 412,
   "metadata": {},
   "outputs": [],
   "source": [
    "#filling Null values with mode as data_type is categorical\n",
    "for column in ['scheme_management', 'installer', 'funder']:\n",
    "    test[column].fillna(test[column].mode()[0], inplace=True)"
   ]
  },
  {
   "cell_type": "code",
   "execution_count": 413,
   "metadata": {},
   "outputs": [],
   "source": [
    "#handling low frequency levels in 'funder' and 'installer'\n",
    "#converting those that occur 100 times or less and set to 'other'\n",
    "low_freq=['funder','installer']\n",
    "test = test.apply(lambda x: x.mask(x.map(x.value_counts())<100, 'other') if x.name in low_freq else x)"
   ]
  },
  {
   "cell_type": "code",
   "execution_count": 414,
   "metadata": {},
   "outputs": [],
   "source": [
    "#encoding categorical variable\n",
    "column = ['installer','funder','basin','region','lga','scheme_management','extraction_type','management','payment','water_quality','quality_group','quantity','source_class','waterpoint_type']\n",
    "for col in column:\n",
    "    test[col]=pd.factorize(test[col])[0]  "
   ]
  },
  {
   "cell_type": "code",
   "execution_count": 415,
   "metadata": {},
   "outputs": [],
   "source": [
    "#Elimination redundant features\n",
    "test = test.drop(['basin','region_code','scheme_management','water_quality','quality_group','source_class'],1)"
   ]
  },
  {
   "cell_type": "code",
   "execution_count": 416,
   "metadata": {},
   "outputs": [],
   "source": [
    "#Lat,long coordinates have a problem that they are 2 features that represent a three dimensional space.\n",
    "#Mapping lat,long coordinates into x , y and z coordinates.\n",
    "test['x_cord']=np.cos(test[\"longitude\"].astype(np.float64))*np.cos(test[\"latitude\"].astype(np.float64))\n",
    "test['y_cord']=np.sin(test[\"longitude\"].astype(np.float64))*np.cos(test[\"latitude\"].astype(np.float64))\n",
    "test['z_cord']=np.sin(test[\"latitude\"].astype(np.float64))"
   ]
  },
  {
   "cell_type": "code",
   "execution_count": 417,
   "metadata": {},
   "outputs": [],
   "source": [
    "#dropping latitude and longitute column\n",
    "test = test.drop(['longitude','latitude'],1)"
   ]
  },
  {
   "cell_type": "code",
   "execution_count": 418,
   "metadata": {},
   "outputs": [],
   "source": [
    "#standardizing 'amount_tsh','gps_height'and 'population' columns in test set\n",
    "from sklearn.preprocessing import StandardScaler\n",
    "sc = StandardScaler()\n",
    "std_col=['amount_tsh','gps_height','population']\n",
    "features = test[std_col]\n",
    "scaler= sc.fit_transform(features.values)\n",
    "test[std_col] = scaler"
   ]
  },
  {
   "cell_type": "code",
   "execution_count": 419,
   "metadata": {},
   "outputs": [
    {
     "name": "stdout",
     "output_type": "stream",
     "text": [
      "The column 'amount_tsh' has range -0.08058319676048512 to 81.02822988318516\n",
      "The column 'funder' has range 0 to 25\n",
      "The column 'gps_height' has range -1.0698280723958797 to 2.8018298328777003\n",
      "The column 'installer' has range 0 to 19\n",
      "The column 'region' has range 0 to 20\n",
      "The column 'lga' has range 0 to 123\n",
      "The column 'population' has range -0.4067611579933158 to 21.905767732589283\n",
      "The column 'extraction_type' has range 0 to 16\n",
      "The column 'management' has range 0 to 11\n",
      "The column 'payment' has range 0 to 6\n",
      "The column 'quantity' has range 0 to 4\n",
      "The column 'waterpoint_type' has range 0 to 6\n",
      "The column 'age' has range -5 to 53\n",
      "The column 'x_cord' has range -0.9993762187149792 to 0.9999999999999998\n",
      "The column 'y_cord' has range -0.9997229516192775 to 0.9822582909639378\n",
      "The column 'z_cord' has range -0.9999999997190122 to 0.9999999893258777\n"
     ]
    }
   ],
   "source": [
    "#max and min values of each feature columns in test set \n",
    "for col in test.columns.values: \n",
    "    unique_entries = pd.unique(test[col])\n",
    "    print(f\"The column '{col}' has range {unique_entries.min()} to {unique_entries.max()}\")   "
   ]
  },
  {
   "cell_type": "code",
   "execution_count": 420,
   "metadata": {},
   "outputs": [
    {
     "data": {
      "text/plain": [
       "(14850, 16)"
      ]
     },
     "execution_count": 420,
     "metadata": {},
     "output_type": "execute_result"
    }
   ],
   "source": [
    "test.shape"
   ]
  },
  {
   "cell_type": "code",
   "execution_count": 421,
   "metadata": {
    "scrolled": true
   },
   "outputs": [
    {
     "data": {
      "text/html": [
       "<div>\n",
       "<style scoped>\n",
       "    .dataframe tbody tr th:only-of-type {\n",
       "        vertical-align: middle;\n",
       "    }\n",
       "\n",
       "    .dataframe tbody tr th {\n",
       "        vertical-align: top;\n",
       "    }\n",
       "\n",
       "    .dataframe thead th {\n",
       "        text-align: right;\n",
       "    }\n",
       "</style>\n",
       "<table border=\"1\" class=\"dataframe\">\n",
       "  <thead>\n",
       "    <tr style=\"text-align: right;\">\n",
       "      <th></th>\n",
       "      <th>amount_tsh</th>\n",
       "      <th>funder</th>\n",
       "      <th>gps_height</th>\n",
       "      <th>installer</th>\n",
       "      <th>region</th>\n",
       "      <th>lga</th>\n",
       "      <th>population</th>\n",
       "      <th>extraction_type</th>\n",
       "      <th>management</th>\n",
       "      <th>payment</th>\n",
       "      <th>quantity</th>\n",
       "      <th>waterpoint_type</th>\n",
       "      <th>age</th>\n",
       "      <th>x_cord</th>\n",
       "      <th>y_cord</th>\n",
       "      <th>z_cord</th>\n",
       "    </tr>\n",
       "  </thead>\n",
       "  <tbody>\n",
       "    <tr>\n",
       "      <th>0</th>\n",
       "      <td>-0.080583</td>\n",
       "      <td>0</td>\n",
       "      <td>1.445231</td>\n",
       "      <td>0</td>\n",
       "      <td>0</td>\n",
       "      <td>0</td>\n",
       "      <td>1.309072</td>\n",
       "      <td>0</td>\n",
       "      <td>0</td>\n",
       "      <td>0</td>\n",
       "      <td>0</td>\n",
       "      <td>0</td>\n",
       "      <td>7</td>\n",
       "      <td>0.197759</td>\n",
       "      <td>0.163141</td>\n",
       "      <td>-0.966580</td>\n",
       "    </tr>\n",
       "    <tr>\n",
       "      <th>1</th>\n",
       "      <td>-0.080583</td>\n",
       "      <td>0</td>\n",
       "      <td>-0.978713</td>\n",
       "      <td>1</td>\n",
       "      <td>1</td>\n",
       "      <td>1</td>\n",
       "      <td>-0.406761</td>\n",
       "      <td>1</td>\n",
       "      <td>0</td>\n",
       "      <td>0</td>\n",
       "      <td>1</td>\n",
       "      <td>0</td>\n",
       "      <td>18</td>\n",
       "      <td>0.017021</td>\n",
       "      <td>-0.484441</td>\n",
       "      <td>0.874659</td>\n",
       "    </tr>\n",
       "    <tr>\n",
       "      <th>2</th>\n",
       "      <td>-0.080583</td>\n",
       "      <td>1</td>\n",
       "      <td>-0.978713</td>\n",
       "      <td>2</td>\n",
       "      <td>1</td>\n",
       "      <td>2</td>\n",
       "      <td>-0.406761</td>\n",
       "      <td>2</td>\n",
       "      <td>0</td>\n",
       "      <td>0</td>\n",
       "      <td>1</td>\n",
       "      <td>1</td>\n",
       "      <td>18</td>\n",
       "      <td>0.122979</td>\n",
       "      <td>-0.513598</td>\n",
       "      <td>-0.849172</td>\n",
       "    </tr>\n",
       "    <tr>\n",
       "      <th>3</th>\n",
       "      <td>-0.080583</td>\n",
       "      <td>0</td>\n",
       "      <td>-0.978713</td>\n",
       "      <td>0</td>\n",
       "      <td>2</td>\n",
       "      <td>3</td>\n",
       "      <td>-0.406761</td>\n",
       "      <td>3</td>\n",
       "      <td>0</td>\n",
       "      <td>0</td>\n",
       "      <td>1</td>\n",
       "      <td>1</td>\n",
       "      <td>18</td>\n",
       "      <td>-0.559807</td>\n",
       "      <td>-0.045099</td>\n",
       "      <td>-0.827395</td>\n",
       "    </tr>\n",
       "    <tr>\n",
       "      <th>4</th>\n",
       "      <td>-0.080583</td>\n",
       "      <td>2</td>\n",
       "      <td>-0.978713</td>\n",
       "      <td>0</td>\n",
       "      <td>2</td>\n",
       "      <td>4</td>\n",
       "      <td>-0.406761</td>\n",
       "      <td>0</td>\n",
       "      <td>0</td>\n",
       "      <td>0</td>\n",
       "      <td>2</td>\n",
       "      <td>0</td>\n",
       "      <td>18</td>\n",
       "      <td>0.291332</td>\n",
       "      <td>0.132899</td>\n",
       "      <td>-0.947345</td>\n",
       "    </tr>\n",
       "  </tbody>\n",
       "</table>\n",
       "</div>"
      ],
      "text/plain": [
       "   amount_tsh  funder  gps_height  installer  region  lga  population  \\\n",
       "0   -0.080583       0    1.445231          0       0    0    1.309072   \n",
       "1   -0.080583       0   -0.978713          1       1    1   -0.406761   \n",
       "2   -0.080583       1   -0.978713          2       1    2   -0.406761   \n",
       "3   -0.080583       0   -0.978713          0       2    3   -0.406761   \n",
       "4   -0.080583       2   -0.978713          0       2    4   -0.406761   \n",
       "\n",
       "   extraction_type  management  payment  quantity  waterpoint_type  age  \\\n",
       "0                0           0        0         0                0    7   \n",
       "1                1           0        0         1                0   18   \n",
       "2                2           0        0         1                1   18   \n",
       "3                3           0        0         1                1   18   \n",
       "4                0           0        0         2                0   18   \n",
       "\n",
       "     x_cord    y_cord    z_cord  \n",
       "0  0.197759  0.163141 -0.966580  \n",
       "1  0.017021 -0.484441  0.874659  \n",
       "2  0.122979 -0.513598 -0.849172  \n",
       "3 -0.559807 -0.045099 -0.827395  \n",
       "4  0.291332  0.132899 -0.947345  "
      ]
     },
     "execution_count": 421,
     "metadata": {},
     "output_type": "execute_result"
    }
   ],
   "source": [
    "test.head()"
   ]
  },
  {
   "cell_type": "markdown",
   "metadata": {},
   "source": [
    "### Comments:-\n",
    "1)Out of the above three models, we have selected RandomForestClassifier as it is giving highest accuracy.\n",
    "\n",
    "2)Now, we will do final prediction on Test.csv data,using RandomForest classifier. "
   ]
  },
  {
   "cell_type": "markdown",
   "metadata": {},
   "source": [
    "### Prediction on Test data"
   ]
  },
  {
   "cell_type": "code",
   "execution_count": 424,
   "metadata": {},
   "outputs": [],
   "source": [
    "testGet = test.copy()"
   ]
  },
  {
   "cell_type": "code",
   "execution_count": 425,
   "metadata": {},
   "outputs": [],
   "source": [
    "test_data = classifier_r.predict(testGet)\n",
    "test_data = pd.DataFrame(test_data,columns=['status_group'])\n",
    "test_data['status_group']=test_data['status_group'].map({1:'functional',2:'non functional',3:'functional needs repair'})\n",
    "test_data.to_csv('203110059_assignment2.csv',header=False,index=False)"
   ]
  },
  {
   "cell_type": "markdown",
   "metadata": {},
   "source": [
    "### References:\n",
    "1. https://scikit-learn.org/stable/index.html\n",
    "2. https://stackoverflow.com\n",
    "3. https://www.datacamp.com/community/blog/python-pandas-cheat-sheet?"
   ]
  }
 ],
 "metadata": {
  "colab": {
   "collapsed_sections": [],
   "name": "EE Assignment 2.ipynb",
   "provenance": []
  },
  "kernelspec": {
   "display_name": "Python 3",
   "language": "python",
   "name": "python3"
  },
  "language_info": {
   "codemirror_mode": {
    "name": "ipython",
    "version": 3
   },
   "file_extension": ".py",
   "mimetype": "text/x-python",
   "name": "python",
   "nbconvert_exporter": "python",
   "pygments_lexer": "ipython3",
   "version": "3.8.8"
  }
 },
 "nbformat": 4,
 "nbformat_minor": 1
}
